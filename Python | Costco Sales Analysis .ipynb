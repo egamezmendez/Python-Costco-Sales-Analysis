{
 "cells": [
  {
   "cell_type": "markdown",
   "id": "8786657b",
   "metadata": {},
   "source": [
    "# Python | Costco Sales Analysis "
   ]
  },
  {
   "cell_type": "markdown",
   "id": "a12c87f4",
   "metadata": {},
   "source": [
    "<h2> Objective "
   ]
  },
  {
   "cell_type": "markdown",
   "id": "30bd53da",
   "metadata": {},
   "source": [
    "In the following dataset, I will answer the following questions:\n",
    "\n",
    "1. What is the overall sales trend?\n",
    "2. What are the top 10 products by sale?\n",
    "3. Which are the most selling products?\n",
    "4. Which is the most preferred ship mode?\n",
    "5. Which are the most profitable category and sub-category? "
   ]
  },
  {
   "cell_type": "markdown",
   "id": "918ce348",
   "metadata": {},
   "source": [
    "<h2> Import Libraries "
   ]
  },
  {
   "cell_type": "code",
   "execution_count": 3,
   "id": "ee2aa54f",
   "metadata": {},
   "outputs": [],
   "source": [
    "# Make sure to run this cell otherwise remaining cells will generate error. \n",
    "import pandas as pd\n",
    "import matplotlib.pyplot as plt\n",
    "\n",
    "#enables visualizations to be displayed on notebook interface. \n",
    "%matplotlib inline\n",
    "\n",
    "import seaborn as sns"
   ]
  },
  {
   "cell_type": "markdown",
   "id": "fb2109c2",
   "metadata": {},
   "source": [
    "<h2> Import Dataset"
   ]
  },
  {
   "cell_type": "code",
   "execution_count": 5,
   "id": "075a1843",
   "metadata": {},
   "outputs": [],
   "source": [
    "# Importing dataset. Make sure to place folder on Desktop. \n",
    "df = pd.read_csv('Costco_SuperStore_Sales_Dataset.csv')"
   ]
  },
  {
   "cell_type": "markdown",
   "id": "a1044e21",
   "metadata": {},
   "source": [
    "<h2> Data Audit "
   ]
  },
  {
   "cell_type": "markdown",
   "id": "ace0e9d8",
   "metadata": {},
   "source": [
    "It is essential to develop a general understanding for any form of data you will analyze. In my current role at Costco, I review the BI Report Hotsheet daily which displays a list of new and low stock items in transit. Then, I must head to the floor and create a mental visualization on where these items will be placed. I coordinate with the stockers so that they begin making the arrangements necessary early in the day before we unload the shipment. Every second counts and everything must be in place ready to go so that we may hit the ground running. The purpose of this is to demonstrate the benefits of analyzing data ahead of time rather than taking action without a plan. \n",
    "\n",
    "For the purpose of this project, some factors to seek out for are missing values, outliers, data types, records etc. We will begin analyzing the beginning of this dataset. "
   ]
  },
  {
   "cell_type": "code",
   "execution_count": 11,
   "id": "55bbce52",
   "metadata": {},
   "outputs": [
    {
     "data": {
      "text/html": [
       "<div>\n",
       "<style scoped>\n",
       "    .dataframe tbody tr th:only-of-type {\n",
       "        vertical-align: middle;\n",
       "    }\n",
       "\n",
       "    .dataframe tbody tr th {\n",
       "        vertical-align: top;\n",
       "    }\n",
       "\n",
       "    .dataframe thead th {\n",
       "        text-align: right;\n",
       "    }\n",
       "</style>\n",
       "<table border=\"1\" class=\"dataframe\">\n",
       "  <thead>\n",
       "    <tr style=\"text-align: right;\">\n",
       "      <th></th>\n",
       "      <th>Row ID+O6G3A1:R6</th>\n",
       "      <th>Order ID</th>\n",
       "      <th>Order Date</th>\n",
       "      <th>Ship Date</th>\n",
       "      <th>Ship Mode</th>\n",
       "      <th>Customer ID</th>\n",
       "      <th>Customer Name</th>\n",
       "      <th>Segment</th>\n",
       "      <th>Country</th>\n",
       "      <th>City</th>\n",
       "      <th>...</th>\n",
       "      <th>Category</th>\n",
       "      <th>Sub-Category</th>\n",
       "      <th>Product Name</th>\n",
       "      <th>Sales</th>\n",
       "      <th>Quantity</th>\n",
       "      <th>Profit</th>\n",
       "      <th>Returns</th>\n",
       "      <th>Payment Mode</th>\n",
       "      <th>ind1</th>\n",
       "      <th>ind2</th>\n",
       "    </tr>\n",
       "  </thead>\n",
       "  <tbody>\n",
       "    <tr>\n",
       "      <th>0</th>\n",
       "      <td>4918</td>\n",
       "      <td>CA-2019-160304</td>\n",
       "      <td>01-01-2019</td>\n",
       "      <td>07-01-2019</td>\n",
       "      <td>Standard Class</td>\n",
       "      <td>BM-11575</td>\n",
       "      <td>Brendan Murry</td>\n",
       "      <td>Corporate</td>\n",
       "      <td>United States</td>\n",
       "      <td>Gaithersburg</td>\n",
       "      <td>...</td>\n",
       "      <td>Furniture</td>\n",
       "      <td>Bookcases</td>\n",
       "      <td>Bush Westfield Collection Bookcases, Medium Ch...</td>\n",
       "      <td>73.94</td>\n",
       "      <td>1</td>\n",
       "      <td>28.2668</td>\n",
       "      <td>NaN</td>\n",
       "      <td>Online</td>\n",
       "      <td>NaN</td>\n",
       "      <td>NaN</td>\n",
       "    </tr>\n",
       "    <tr>\n",
       "      <th>1</th>\n",
       "      <td>4919</td>\n",
       "      <td>CA-2019-160304</td>\n",
       "      <td>02-01-2019</td>\n",
       "      <td>07-01-2019</td>\n",
       "      <td>Standard Class</td>\n",
       "      <td>BM-11575</td>\n",
       "      <td>Brendan Murry</td>\n",
       "      <td>Corporate</td>\n",
       "      <td>United States</td>\n",
       "      <td>Gaithersburg</td>\n",
       "      <td>...</td>\n",
       "      <td>Furniture</td>\n",
       "      <td>Bookcases</td>\n",
       "      <td>Bush Westfield Collection Bookcases, Medium Ch...</td>\n",
       "      <td>173.94</td>\n",
       "      <td>3</td>\n",
       "      <td>38.2668</td>\n",
       "      <td>NaN</td>\n",
       "      <td>Online</td>\n",
       "      <td>NaN</td>\n",
       "      <td>NaN</td>\n",
       "    </tr>\n",
       "    <tr>\n",
       "      <th>2</th>\n",
       "      <td>4920</td>\n",
       "      <td>CA-2019-160304</td>\n",
       "      <td>02-01-2019</td>\n",
       "      <td>07-01-2019</td>\n",
       "      <td>Standard Class</td>\n",
       "      <td>BM-11575</td>\n",
       "      <td>Brendan Murry</td>\n",
       "      <td>Corporate</td>\n",
       "      <td>United States</td>\n",
       "      <td>Gaithersburg</td>\n",
       "      <td>...</td>\n",
       "      <td>Technology</td>\n",
       "      <td>Phones</td>\n",
       "      <td>GE 30522EE2</td>\n",
       "      <td>231.98</td>\n",
       "      <td>2</td>\n",
       "      <td>67.2742</td>\n",
       "      <td>NaN</td>\n",
       "      <td>Cards</td>\n",
       "      <td>NaN</td>\n",
       "      <td>NaN</td>\n",
       "    </tr>\n",
       "    <tr>\n",
       "      <th>3</th>\n",
       "      <td>3074</td>\n",
       "      <td>CA-2019-125206</td>\n",
       "      <td>03-01-2019</td>\n",
       "      <td>05-01-2019</td>\n",
       "      <td>First Class</td>\n",
       "      <td>LR-16915</td>\n",
       "      <td>Lena Radford</td>\n",
       "      <td>Consumer</td>\n",
       "      <td>United States</td>\n",
       "      <td>Los Angeles</td>\n",
       "      <td>...</td>\n",
       "      <td>Office Supplies</td>\n",
       "      <td>Storage</td>\n",
       "      <td>Recycled Steel Personal File for Hanging File ...</td>\n",
       "      <td>114.46</td>\n",
       "      <td>2</td>\n",
       "      <td>28.6150</td>\n",
       "      <td>NaN</td>\n",
       "      <td>Online</td>\n",
       "      <td>NaN</td>\n",
       "      <td>NaN</td>\n",
       "    </tr>\n",
       "    <tr>\n",
       "      <th>4</th>\n",
       "      <td>8604</td>\n",
       "      <td>US-2019-116365</td>\n",
       "      <td>03-01-2019</td>\n",
       "      <td>08-01-2019</td>\n",
       "      <td>Standard Class</td>\n",
       "      <td>CA-12310</td>\n",
       "      <td>Christine Abelman</td>\n",
       "      <td>Corporate</td>\n",
       "      <td>United States</td>\n",
       "      <td>San Antonio</td>\n",
       "      <td>...</td>\n",
       "      <td>Technology</td>\n",
       "      <td>Accessories</td>\n",
       "      <td>Imation Clip USB flash drive - 8 GB</td>\n",
       "      <td>30.08</td>\n",
       "      <td>2</td>\n",
       "      <td>-5.2640</td>\n",
       "      <td>NaN</td>\n",
       "      <td>Online</td>\n",
       "      <td>NaN</td>\n",
       "      <td>NaN</td>\n",
       "    </tr>\n",
       "  </tbody>\n",
       "</table>\n",
       "<p>5 rows × 23 columns</p>\n",
       "</div>"
      ],
      "text/plain": [
       "   Row ID+O6G3A1:R6        Order ID  Order Date   Ship Date       Ship Mode  \\\n",
       "0              4918  CA-2019-160304  01-01-2019  07-01-2019  Standard Class   \n",
       "1              4919  CA-2019-160304  02-01-2019  07-01-2019  Standard Class   \n",
       "2              4920  CA-2019-160304  02-01-2019  07-01-2019  Standard Class   \n",
       "3              3074  CA-2019-125206  03-01-2019  05-01-2019     First Class   \n",
       "4              8604  US-2019-116365  03-01-2019  08-01-2019  Standard Class   \n",
       "\n",
       "  Customer ID      Customer Name    Segment        Country          City  ...  \\\n",
       "0    BM-11575      Brendan Murry  Corporate  United States  Gaithersburg  ...   \n",
       "1    BM-11575      Brendan Murry  Corporate  United States  Gaithersburg  ...   \n",
       "2    BM-11575      Brendan Murry  Corporate  United States  Gaithersburg  ...   \n",
       "3    LR-16915       Lena Radford   Consumer  United States   Los Angeles  ...   \n",
       "4    CA-12310  Christine Abelman  Corporate  United States   San Antonio  ...   \n",
       "\n",
       "          Category Sub-Category  \\\n",
       "0        Furniture    Bookcases   \n",
       "1        Furniture    Bookcases   \n",
       "2       Technology       Phones   \n",
       "3  Office Supplies      Storage   \n",
       "4       Technology  Accessories   \n",
       "\n",
       "                                        Product Name   Sales Quantity  \\\n",
       "0  Bush Westfield Collection Bookcases, Medium Ch...   73.94        1   \n",
       "1  Bush Westfield Collection Bookcases, Medium Ch...  173.94        3   \n",
       "2                                        GE 30522EE2  231.98        2   \n",
       "3  Recycled Steel Personal File for Hanging File ...  114.46        2   \n",
       "4                Imation Clip USB flash drive - 8 GB   30.08        2   \n",
       "\n",
       "    Profit  Returns  Payment Mode  ind1  ind2  \n",
       "0  28.2668      NaN        Online   NaN   NaN  \n",
       "1  38.2668      NaN        Online   NaN   NaN  \n",
       "2  67.2742      NaN         Cards   NaN   NaN  \n",
       "3  28.6150      NaN        Online   NaN   NaN  \n",
       "4  -5.2640      NaN        Online   NaN   NaN  \n",
       "\n",
       "[5 rows x 23 columns]"
      ]
     },
     "execution_count": 11,
     "metadata": {},
     "output_type": "execute_result"
    }
   ],
   "source": [
    "# First 5 rows of dataset. \n",
    "# head is a method which required parenthesis. \n",
    "df.head()"
   ]
  },
  {
   "cell_type": "markdown",
   "id": "dac53446",
   "metadata": {},
   "source": [
    "Notice row 0 contains an order date of 01-01-2017, and the ship date contains 07-01-2019. This type of insight can develop questions if there are any concerns as to why it was shipped months after, are there any delays that one must look into with the vendor? etc.\n",
    "\n",
    "Now lets take a look at the last five rows. "
   ]
  },
  {
   "cell_type": "code",
   "execution_count": 12,
   "id": "847fe2b3",
   "metadata": {},
   "outputs": [
    {
     "data": {
      "text/html": [
       "<div>\n",
       "<style scoped>\n",
       "    .dataframe tbody tr th:only-of-type {\n",
       "        vertical-align: middle;\n",
       "    }\n",
       "\n",
       "    .dataframe tbody tr th {\n",
       "        vertical-align: top;\n",
       "    }\n",
       "\n",
       "    .dataframe thead th {\n",
       "        text-align: right;\n",
       "    }\n",
       "</style>\n",
       "<table border=\"1\" class=\"dataframe\">\n",
       "  <thead>\n",
       "    <tr style=\"text-align: right;\">\n",
       "      <th></th>\n",
       "      <th>Row ID+O6G3A1:R6</th>\n",
       "      <th>Order ID</th>\n",
       "      <th>Order Date</th>\n",
       "      <th>Ship Date</th>\n",
       "      <th>Ship Mode</th>\n",
       "      <th>Customer ID</th>\n",
       "      <th>Customer Name</th>\n",
       "      <th>Segment</th>\n",
       "      <th>Country</th>\n",
       "      <th>City</th>\n",
       "      <th>...</th>\n",
       "      <th>Category</th>\n",
       "      <th>Sub-Category</th>\n",
       "      <th>Product Name</th>\n",
       "      <th>Sales</th>\n",
       "      <th>Quantity</th>\n",
       "      <th>Profit</th>\n",
       "      <th>Returns</th>\n",
       "      <th>Payment Mode</th>\n",
       "      <th>ind1</th>\n",
       "      <th>ind2</th>\n",
       "    </tr>\n",
       "  </thead>\n",
       "  <tbody>\n",
       "    <tr>\n",
       "      <th>5896</th>\n",
       "      <td>907</td>\n",
       "      <td>CA-2020-143259</td>\n",
       "      <td>30-12-2020</td>\n",
       "      <td>03-01-2021</td>\n",
       "      <td>Standard Class</td>\n",
       "      <td>PO-18865</td>\n",
       "      <td>Patrick O'Donnell</td>\n",
       "      <td>Consumer</td>\n",
       "      <td>United States</td>\n",
       "      <td>New York City</td>\n",
       "      <td>...</td>\n",
       "      <td>Furniture</td>\n",
       "      <td>Bookcases</td>\n",
       "      <td>Bush Westfield Collection Bookcases, Fully Ass...</td>\n",
       "      <td>213.136</td>\n",
       "      <td>4</td>\n",
       "      <td>12.1176</td>\n",
       "      <td>NaN</td>\n",
       "      <td>COD</td>\n",
       "      <td>NaN</td>\n",
       "      <td>NaN</td>\n",
       "    </tr>\n",
       "    <tr>\n",
       "      <th>5897</th>\n",
       "      <td>1297</td>\n",
       "      <td>CA-2020-115427</td>\n",
       "      <td>30-12-2020</td>\n",
       "      <td>03-01-2021</td>\n",
       "      <td>Standard Class</td>\n",
       "      <td>EB-13975</td>\n",
       "      <td>Erica Bern</td>\n",
       "      <td>Corporate</td>\n",
       "      <td>United States</td>\n",
       "      <td>Fairfield</td>\n",
       "      <td>...</td>\n",
       "      <td>Office Supplies</td>\n",
       "      <td>Binders</td>\n",
       "      <td>Cardinal Slant-D Ring Binder, Heavy Gauge Vinyl</td>\n",
       "      <td>295.904</td>\n",
       "      <td>2</td>\n",
       "      <td>4.5188</td>\n",
       "      <td>1.0</td>\n",
       "      <td>Online</td>\n",
       "      <td>NaN</td>\n",
       "      <td>NaN</td>\n",
       "    </tr>\n",
       "    <tr>\n",
       "      <th>5898</th>\n",
       "      <td>5092</td>\n",
       "      <td>CA-2020-156720</td>\n",
       "      <td>30-12-2020</td>\n",
       "      <td>03-01-2021</td>\n",
       "      <td>Standard Class</td>\n",
       "      <td>JM-15580</td>\n",
       "      <td>Jill Matthias</td>\n",
       "      <td>Consumer</td>\n",
       "      <td>United States</td>\n",
       "      <td>Loveland</td>\n",
       "      <td>...</td>\n",
       "      <td>Office Supplies</td>\n",
       "      <td>Fasteners</td>\n",
       "      <td>Bagged Rubber Bands</td>\n",
       "      <td>388.024</td>\n",
       "      <td>3</td>\n",
       "      <td>-0.6048</td>\n",
       "      <td>NaN</td>\n",
       "      <td>Online</td>\n",
       "      <td>NaN</td>\n",
       "      <td>NaN</td>\n",
       "    </tr>\n",
       "    <tr>\n",
       "      <th>5899</th>\n",
       "      <td>909</td>\n",
       "      <td>CA-2020-143259</td>\n",
       "      <td>30-12-2020</td>\n",
       "      <td>03-01-2021</td>\n",
       "      <td>Standard Class</td>\n",
       "      <td>PO-18865</td>\n",
       "      <td>Patrick O'Donnell</td>\n",
       "      <td>Consumer</td>\n",
       "      <td>United States</td>\n",
       "      <td>New York City</td>\n",
       "      <td>...</td>\n",
       "      <td>Office Supplies</td>\n",
       "      <td>Binders</td>\n",
       "      <td>Wilson Jones Legal Size Ring Binders</td>\n",
       "      <td>462.776</td>\n",
       "      <td>3</td>\n",
       "      <td>19.7910</td>\n",
       "      <td>NaN</td>\n",
       "      <td>COD</td>\n",
       "      <td>NaN</td>\n",
       "      <td>NaN</td>\n",
       "    </tr>\n",
       "    <tr>\n",
       "      <th>5900</th>\n",
       "      <td>5093</td>\n",
       "      <td>CA-2020-151450</td>\n",
       "      <td>31-12-2020</td>\n",
       "      <td>04-01-2021</td>\n",
       "      <td>Standard Class</td>\n",
       "      <td>JM-15580</td>\n",
       "      <td>Jill Matthias</td>\n",
       "      <td>Consumer</td>\n",
       "      <td>United States</td>\n",
       "      <td>Loveland</td>\n",
       "      <td>...</td>\n",
       "      <td>Office Supplies</td>\n",
       "      <td>Fasteners</td>\n",
       "      <td>Bagged Rubber Bands</td>\n",
       "      <td>2975.510</td>\n",
       "      <td>3</td>\n",
       "      <td>-0.6048</td>\n",
       "      <td>NaN</td>\n",
       "      <td>COD</td>\n",
       "      <td>NaN</td>\n",
       "      <td>NaN</td>\n",
       "    </tr>\n",
       "  </tbody>\n",
       "</table>\n",
       "<p>5 rows × 23 columns</p>\n",
       "</div>"
      ],
      "text/plain": [
       "      Row ID+O6G3A1:R6        Order ID  Order Date   Ship Date  \\\n",
       "5896               907  CA-2020-143259  30-12-2020  03-01-2021   \n",
       "5897              1297  CA-2020-115427  30-12-2020  03-01-2021   \n",
       "5898              5092  CA-2020-156720  30-12-2020  03-01-2021   \n",
       "5899               909  CA-2020-143259  30-12-2020  03-01-2021   \n",
       "5900              5093  CA-2020-151450  31-12-2020  04-01-2021   \n",
       "\n",
       "           Ship Mode Customer ID      Customer Name    Segment        Country  \\\n",
       "5896  Standard Class    PO-18865  Patrick O'Donnell   Consumer  United States   \n",
       "5897  Standard Class    EB-13975         Erica Bern  Corporate  United States   \n",
       "5898  Standard Class    JM-15580      Jill Matthias   Consumer  United States   \n",
       "5899  Standard Class    PO-18865  Patrick O'Donnell   Consumer  United States   \n",
       "5900  Standard Class    JM-15580      Jill Matthias   Consumer  United States   \n",
       "\n",
       "               City  ...         Category Sub-Category  \\\n",
       "5896  New York City  ...        Furniture    Bookcases   \n",
       "5897      Fairfield  ...  Office Supplies      Binders   \n",
       "5898       Loveland  ...  Office Supplies    Fasteners   \n",
       "5899  New York City  ...  Office Supplies      Binders   \n",
       "5900       Loveland  ...  Office Supplies    Fasteners   \n",
       "\n",
       "                                           Product Name     Sales Quantity  \\\n",
       "5896  Bush Westfield Collection Bookcases, Fully Ass...   213.136        4   \n",
       "5897    Cardinal Slant-D Ring Binder, Heavy Gauge Vinyl   295.904        2   \n",
       "5898                                Bagged Rubber Bands   388.024        3   \n",
       "5899               Wilson Jones Legal Size Ring Binders   462.776        3   \n",
       "5900                                Bagged Rubber Bands  2975.510        3   \n",
       "\n",
       "       Profit  Returns  Payment Mode  ind1  ind2  \n",
       "5896  12.1176      NaN           COD   NaN   NaN  \n",
       "5897   4.5188      1.0        Online   NaN   NaN  \n",
       "5898  -0.6048      NaN        Online   NaN   NaN  \n",
       "5899  19.7910      NaN           COD   NaN   NaN  \n",
       "5900  -0.6048      NaN           COD   NaN   NaN  \n",
       "\n",
       "[5 rows x 23 columns]"
      ]
     },
     "execution_count": 12,
     "metadata": {},
     "output_type": "execute_result"
    }
   ],
   "source": [
    "df.tail()"
   ]
  },
  {
   "cell_type": "markdown",
   "id": "5110811d",
   "metadata": {},
   "source": [
    "Notice how it does not display the total number of rows nor columns. To display the following information, we must use the shape attribute. "
   ]
  },
  {
   "cell_type": "code",
   "execution_count": 13,
   "id": "b0397351",
   "metadata": {},
   "outputs": [
    {
     "data": {
      "text/plain": [
       "(5901, 23)"
      ]
     },
     "execution_count": 13,
     "metadata": {},
     "output_type": "execute_result"
    }
   ],
   "source": [
    "# Review total number of rows and columns. \n",
    "# shape is an attribute which does not require parenthesis. \n",
    "df.shape"
   ]
  },
  {
   "cell_type": "code",
   "execution_count": 14,
   "id": "ed00fb0b",
   "metadata": {},
   "outputs": [
    {
     "data": {
      "text/plain": [
       "Index(['Row ID+O6G3A1:R6', 'Order ID', 'Order Date', 'Ship Date', 'Ship Mode',\n",
       "       'Customer ID', 'Customer Name', 'Segment', 'Country', 'City', 'State',\n",
       "       'Region', 'Product ID', 'Category', 'Sub-Category', 'Product Name',\n",
       "       'Sales', 'Quantity', 'Profit', 'Returns', 'Payment Mode', 'ind1',\n",
       "       'ind2'],\n",
       "      dtype='object')"
      ]
     },
     "execution_count": 14,
     "metadata": {},
     "output_type": "execute_result"
    }
   ],
   "source": [
    "# Review the columns present in the dataset. \n",
    "df.columns"
   ]
  },
  {
   "cell_type": "code",
   "execution_count": 15,
   "id": "f9dc84e2",
   "metadata": {},
   "outputs": [
    {
     "name": "stdout",
     "output_type": "stream",
     "text": [
      "<class 'pandas.core.frame.DataFrame'>\n",
      "RangeIndex: 5901 entries, 0 to 5900\n",
      "Data columns (total 23 columns):\n",
      " #   Column            Non-Null Count  Dtype  \n",
      "---  ------            --------------  -----  \n",
      " 0   Row ID+O6G3A1:R6  5901 non-null   int64  \n",
      " 1   Order ID          5901 non-null   object \n",
      " 2   Order Date        5901 non-null   object \n",
      " 3   Ship Date         5901 non-null   object \n",
      " 4   Ship Mode         5901 non-null   object \n",
      " 5   Customer ID       5901 non-null   object \n",
      " 6   Customer Name     5901 non-null   object \n",
      " 7   Segment           5901 non-null   object \n",
      " 8   Country           5901 non-null   object \n",
      " 9   City              5901 non-null   object \n",
      " 10  State             5901 non-null   object \n",
      " 11  Region            5901 non-null   object \n",
      " 12  Product ID        5901 non-null   object \n",
      " 13  Category          5901 non-null   object \n",
      " 14  Sub-Category      5901 non-null   object \n",
      " 15  Product Name      5901 non-null   object \n",
      " 16  Sales             5901 non-null   float64\n",
      " 17  Quantity          5901 non-null   int64  \n",
      " 18  Profit            5901 non-null   float64\n",
      " 19  Returns           287 non-null    float64\n",
      " 20  Payment Mode      5901 non-null   object \n",
      " 21  ind1              0 non-null      float64\n",
      " 22  ind2              0 non-null      float64\n",
      "dtypes: float64(5), int64(2), object(16)\n",
      "memory usage: 1.0+ MB\n"
     ]
    }
   ],
   "source": [
    "# Review the summary of the dataset. \n",
    "df.info()"
   ]
  },
  {
   "cell_type": "code",
   "execution_count": 16,
   "id": "cdf4283c",
   "metadata": {},
   "outputs": [
    {
     "data": {
      "text/plain": [
       "Row ID+O6G3A1:R6       0\n",
       "Order ID               0\n",
       "Order Date             0\n",
       "Ship Date              0\n",
       "Ship Mode              0\n",
       "Customer ID            0\n",
       "Customer Name          0\n",
       "Segment                0\n",
       "Country                0\n",
       "City                   0\n",
       "State                  0\n",
       "Region                 0\n",
       "Product ID             0\n",
       "Category               0\n",
       "Sub-Category           0\n",
       "Product Name           0\n",
       "Sales                  0\n",
       "Quantity               0\n",
       "Profit                 0\n",
       "Returns             5614\n",
       "Payment Mode           0\n",
       "ind1                5901\n",
       "ind2                5901\n",
       "dtype: int64"
      ]
     },
     "execution_count": 16,
     "metadata": {},
     "output_type": "execute_result"
    }
   ],
   "source": [
    "# Review missing values \n",
    "df.isnull().sum()"
   ]
  },
  {
   "cell_type": "markdown",
   "id": "53c90d55",
   "metadata": {},
   "source": [
    "We can see that Returns contain 5614 missing values, ind1 and ind2 contain 5901 missing values. "
   ]
  },
  {
   "cell_type": "code",
   "execution_count": 23,
   "id": "3af7404b",
   "metadata": {},
   "outputs": [
    {
     "data": {
      "text/html": [
       "<div>\n",
       "<style scoped>\n",
       "    .dataframe tbody tr th:only-of-type {\n",
       "        vertical-align: middle;\n",
       "    }\n",
       "\n",
       "    .dataframe tbody tr th {\n",
       "        vertical-align: top;\n",
       "    }\n",
       "\n",
       "    .dataframe thead th {\n",
       "        text-align: right;\n",
       "    }\n",
       "</style>\n",
       "<table border=\"1\" class=\"dataframe\">\n",
       "  <thead>\n",
       "    <tr style=\"text-align: right;\">\n",
       "      <th></th>\n",
       "      <th>Row ID+O6G3A1:R6</th>\n",
       "      <th>Sales</th>\n",
       "      <th>Quantity</th>\n",
       "      <th>Profit</th>\n",
       "      <th>Returns</th>\n",
       "      <th>ind1</th>\n",
       "      <th>ind2</th>\n",
       "    </tr>\n",
       "  </thead>\n",
       "  <tbody>\n",
       "    <tr>\n",
       "      <th>count</th>\n",
       "      <td>5901.0</td>\n",
       "      <td>5901.0</td>\n",
       "      <td>5901.0</td>\n",
       "      <td>5901.0</td>\n",
       "      <td>287.0</td>\n",
       "      <td>0.0</td>\n",
       "      <td>0.0</td>\n",
       "    </tr>\n",
       "    <tr>\n",
       "      <th>mean</th>\n",
       "      <td>5022.0</td>\n",
       "      <td>265.0</td>\n",
       "      <td>4.0</td>\n",
       "      <td>30.0</td>\n",
       "      <td>1.0</td>\n",
       "      <td>NaN</td>\n",
       "      <td>NaN</td>\n",
       "    </tr>\n",
       "    <tr>\n",
       "      <th>std</th>\n",
       "      <td>2878.0</td>\n",
       "      <td>474.0</td>\n",
       "      <td>2.0</td>\n",
       "      <td>260.0</td>\n",
       "      <td>0.0</td>\n",
       "      <td>NaN</td>\n",
       "      <td>NaN</td>\n",
       "    </tr>\n",
       "    <tr>\n",
       "      <th>min</th>\n",
       "      <td>1.0</td>\n",
       "      <td>1.0</td>\n",
       "      <td>1.0</td>\n",
       "      <td>-6600.0</td>\n",
       "      <td>1.0</td>\n",
       "      <td>NaN</td>\n",
       "      <td>NaN</td>\n",
       "    </tr>\n",
       "    <tr>\n",
       "      <th>25%</th>\n",
       "      <td>2486.0</td>\n",
       "      <td>72.0</td>\n",
       "      <td>2.0</td>\n",
       "      <td>2.0</td>\n",
       "      <td>1.0</td>\n",
       "      <td>NaN</td>\n",
       "      <td>NaN</td>\n",
       "    </tr>\n",
       "    <tr>\n",
       "      <th>50%</th>\n",
       "      <td>5091.0</td>\n",
       "      <td>129.0</td>\n",
       "      <td>3.0</td>\n",
       "      <td>9.0</td>\n",
       "      <td>1.0</td>\n",
       "      <td>NaN</td>\n",
       "      <td>NaN</td>\n",
       "    </tr>\n",
       "    <tr>\n",
       "      <th>75%</th>\n",
       "      <td>7456.0</td>\n",
       "      <td>265.0</td>\n",
       "      <td>5.0</td>\n",
       "      <td>29.0</td>\n",
       "      <td>1.0</td>\n",
       "      <td>NaN</td>\n",
       "      <td>NaN</td>\n",
       "    </tr>\n",
       "    <tr>\n",
       "      <th>max</th>\n",
       "      <td>9994.0</td>\n",
       "      <td>9100.0</td>\n",
       "      <td>14.0</td>\n",
       "      <td>8400.0</td>\n",
       "      <td>1.0</td>\n",
       "      <td>NaN</td>\n",
       "      <td>NaN</td>\n",
       "    </tr>\n",
       "  </tbody>\n",
       "</table>\n",
       "</div>"
      ],
      "text/plain": [
       "       Row ID+O6G3A1:R6   Sales  Quantity  Profit  Returns  ind1  ind2\n",
       "count            5901.0  5901.0    5901.0  5901.0    287.0   0.0   0.0\n",
       "mean             5022.0   265.0       4.0    30.0      1.0   NaN   NaN\n",
       "std              2878.0   474.0       2.0   260.0      0.0   NaN   NaN\n",
       "min                 1.0     1.0       1.0 -6600.0      1.0   NaN   NaN\n",
       "25%              2486.0    72.0       2.0     2.0      1.0   NaN   NaN\n",
       "50%              5091.0   129.0       3.0     9.0      1.0   NaN   NaN\n",
       "75%              7456.0   265.0       5.0    29.0      1.0   NaN   NaN\n",
       "max              9994.0  9100.0      14.0  8400.0      1.0   NaN   NaN"
      ]
     },
     "execution_count": 23,
     "metadata": {},
     "output_type": "execute_result"
    }
   ],
   "source": [
    "# Review descriptive statistics summary \n",
    "df.describe().round()"
   ]
  },
  {
   "cell_type": "markdown",
   "id": "4833e91a",
   "metadata": {},
   "source": [
    "<h2> Exploratory Data Analysis "
   ]
  },
  {
   "cell_type": "markdown",
   "id": "9c8702aa",
   "metadata": {},
   "source": [
    "<h4> 1. What is the overall sales trend? "
   ]
  },
  {
   "cell_type": "markdown",
   "id": "0dc4cb4a",
   "metadata": {},
   "source": [
    "Before we answer this question, we must have an idea what time frame this question will cover. "
   ]
  },
  {
   "cell_type": "code",
   "execution_count": 21,
   "id": "18326efe",
   "metadata": {},
   "outputs": [
    {
     "data": {
      "text/plain": [
       "'01-01-2019'"
      ]
     },
     "execution_count": 21,
     "metadata": {},
     "output_type": "execute_result"
    }
   ],
   "source": [
    "df ['Order Date'].min()"
   ]
  },
  {
   "cell_type": "code",
   "execution_count": 22,
   "id": "863d17b6",
   "metadata": {},
   "outputs": [
    {
     "data": {
      "text/plain": [
       "'31-12-2020'"
      ]
     },
     "execution_count": 22,
     "metadata": {},
     "output_type": "execute_result"
    }
   ],
   "source": [
    "df ['Order Date'].max()"
   ]
  },
  {
   "cell_type": "markdown",
   "id": "de73cf9f",
   "metadata": {},
   "source": [
    "Based on the results, we can see that it will range from January 01, 2019 to December 31, 2020. The dates are ordered as day, month, year. It is important to be aware of this as providing the correct insight to shareholders is crucial. \n",
    "\n",
    "Now we must obtain the month and year only from the dataset to create a better view of the sales trend. We will use the lamba function with the apply method to create a new column called 'month_year'. \n",
    "\n",
    "However, keep in mind that the 'strftime' method is used for formatting datetime objects, not strings. Thus, we must complete this first before we proceed to create a column of month and year only. "
   ]
  },
  {
   "cell_type": "code",
   "execution_count": 31,
   "id": "fc97d8b4",
   "metadata": {},
   "outputs": [],
   "source": [
    "# Convert string in 'Order Date' to datetime object. \n",
    "df['Order Date'] = pd.to_datetime(df['Order Date'], format='%d-%m-%Y')\n",
    "\n",
    "# Create a new column 'month_year' with formatted date\n",
    "df['month_year'] = df['Order Date'].apply(lambda x: x.strftime('%Y-%m'))"
   ]
  },
  {
   "cell_type": "code",
   "execution_count": 32,
   "id": "a87ba05b",
   "metadata": {},
   "outputs": [
    {
     "data": {
      "text/plain": [
       "0       2019-01\n",
       "1       2019-01\n",
       "2       2019-01\n",
       "3       2019-01\n",
       "4       2019-01\n",
       "         ...   \n",
       "5896    2020-12\n",
       "5897    2020-12\n",
       "5898    2020-12\n",
       "5899    2020-12\n",
       "5900    2020-12\n",
       "Name: month_year, Length: 5901, dtype: object"
      ]
     },
     "execution_count": 32,
     "metadata": {},
     "output_type": "execute_result"
    }
   ],
   "source": [
    "df['month_year']"
   ]
  },
  {
   "cell_type": "markdown",
   "id": "f2a6652b",
   "metadata": {},
   "source": [
    "Alright, now that we formatted the dates we must attach the sales trend which we will do with the following snippet. \n",
    "\n",
    "Since there are Null values in the sales column we must execute 'coerce' which handles non-numeric values by converting them to NaN. \n",
    "\n",
    "'.reset_index()' will structure it into the dataframe format. "
   ]
  },
  {
   "cell_type": "code",
   "execution_count": 48,
   "id": "ff2ca863",
   "metadata": {},
   "outputs": [],
   "source": [
    "# Convert 'sales' column to numeric\n",
    "df['sales'] = pd.to_numeric(df['Sales'], errors='coerce')  \n",
    "\n",
    "# Grouping 'month_year' by sales\n",
    "df_trend = df.groupby('month_year')['Sales'].sum().reset_index()"
   ]
  },
  {
   "cell_type": "code",
   "execution_count": null,
   "id": "2c41b0b8",
   "metadata": {},
   "outputs": [],
   "source": [
    "df_trend"
   ]
  },
  {
   "cell_type": "markdown",
   "id": "710ebdaa",
   "metadata": {},
   "source": [
    "One observation we can make is from August 2020 to September 2020 there was a $42,000 (20 PERCENT) increase in sales! Another increase from October 2020 to December 2020. Could it have been a surge in the level of panic related to Covid (COVID-19) pandemic? We'll leave that for another time but it is a crucial factor to consider. Face masks were mandatory by many facilities, Lysol and disenfectant materials were needed as many were concerned for their health and their familiy. \n",
    "\n",
    "\n",
    "How did we get the profit you ask? \n",
    "\n",
    "August-September\n",
    "\n",
    "• Add the two sales together that you seek to measure: 77338 + 119803 = 197141\n",
    "\n",
    "• Divide those two individually by the total you acquired: 77338/197141 = .39, 119803/197141 = .60\n",
    "\n",
    "• Now subtract those two decimals and you will obtain your percentage: .60 - .39 = .20\n",
    "\n",
    "\n",
    "\n",
    "October-December \n",
    "\n",
    "• 88896 + 130960 + 166185 = 386041\n",
    "\n",
    "• 88896/386041 = .23, 130960/386041 = .33, 166185/386041 = .43\n",
    "\n",
    "• .10 + .10 ANOTHER 20 PERCENT! "
   ]
  },
  {
   "cell_type": "code",
   "execution_count": 70,
   "id": "97874199",
   "metadata": {},
   "outputs": [
    {
     "data": {
      "image/png": "[encoded data removed]",
      "text/plain": [
       "<Figure size 1500x600 with 1 Axes>"
      ]
     },
     "metadata": {},
     "output_type": "display_data"
    }
   ],
   "source": [
    "# Setting the figure size\n",
    "plt.figure(figsize=(15, 6))\n",
    "plt.plot(df_temp['month_year'], df_temp['Sales'], color='#b80045')\n",
    "plt.xticks(rotation='vertical', size=8)\n",
    "plt.show()"
   ]
  },
  {
   "cell_type": "markdown",
   "id": "5a969a9b",
   "metadata": {},
   "source": [
    "<h4> 2. What are the top 10 products by sale?"
   ]
  },
  {
   "cell_type": "markdown",
   "id": "9aafede6",
   "metadata": {},
   "source": [
    "For this section, we will need the 'Sales' and 'Product Name' columns. Friendly reminder that Python is case sensitive so ensure to type it exactly as it is displayed on the dataframe. "
   ]
  },
  {
   "cell_type": "code",
   "execution_count": 91,
   "id": "4f966159",
   "metadata": {},
   "outputs": [
    {
     "data": {
      "text/html": [
       "<div>\n",
       "<style scoped>\n",
       "    .dataframe tbody tr th:only-of-type {\n",
       "        vertical-align: middle;\n",
       "    }\n",
       "\n",
       "    .dataframe tbody tr th {\n",
       "        vertical-align: top;\n",
       "    }\n",
       "\n",
       "    .dataframe thead th {\n",
       "        text-align: right;\n",
       "    }\n",
       "</style>\n",
       "<table border=\"1\" class=\"dataframe\">\n",
       "  <thead>\n",
       "    <tr style=\"text-align: right;\">\n",
       "      <th></th>\n",
       "      <th>Sales</th>\n",
       "    </tr>\n",
       "    <tr>\n",
       "      <th>Product Name</th>\n",
       "      <th></th>\n",
       "    </tr>\n",
       "  </thead>\n",
       "  <tbody>\n",
       "    <tr>\n",
       "      <th>3D Systems Cube Printer, 2nd Generation, Magenta</th>\n",
       "      <td>14333</td>\n",
       "    </tr>\n",
       "    <tr>\n",
       "      <th>Canon imageCLASS 2200 Advanced Copier</th>\n",
       "      <td>14072</td>\n",
       "    </tr>\n",
       "    <tr>\n",
       "      <th>Hewlett Packard LaserJet 3310 Copier</th>\n",
       "      <td>13832</td>\n",
       "    </tr>\n",
       "    <tr>\n",
       "      <th>GBC DocuBind TL300 Electric Binding System</th>\n",
       "      <td>12886</td>\n",
       "    </tr>\n",
       "    <tr>\n",
       "      <th>GBC DocuBind P400 Electric Binding System</th>\n",
       "      <td>12575</td>\n",
       "    </tr>\n",
       "    <tr>\n",
       "      <th>Samsung Galaxy Mega 6.3</th>\n",
       "      <td>12366</td>\n",
       "    </tr>\n",
       "    <tr>\n",
       "      <th>Martin Yale Chadless Opener Electric Letter Opener</th>\n",
       "      <td>12267</td>\n",
       "    </tr>\n",
       "    <tr>\n",
       "      <th>HON 5400 Series Task Chairs for Big and Tall</th>\n",
       "      <td>11885</td>\n",
       "    </tr>\n",
       "    <tr>\n",
       "      <th>Global Troy Executive Leather Low-Back Tilter</th>\n",
       "      <td>10215</td>\n",
       "    </tr>\n",
       "    <tr>\n",
       "      <th>Fellowes PB500 Electric Punch Plastic Comb Binding Machine with Manual Bind</th>\n",
       "      <td>9753</td>\n",
       "    </tr>\n",
       "  </tbody>\n",
       "</table>\n",
       "</div>"
      ],
      "text/plain": [
       "                                                    Sales\n",
       "Product Name                                             \n",
       "3D Systems Cube Printer, 2nd Generation, Magenta    14333\n",
       "Canon imageCLASS 2200 Advanced Copier               14072\n",
       "Hewlett Packard LaserJet 3310 Copier                13832\n",
       "GBC DocuBind TL300 Electric Binding System          12886\n",
       "GBC DocuBind P400 Electric Binding System           12575\n",
       "Samsung Galaxy Mega 6.3                             12366\n",
       "Martin Yale Chadless Opener Electric Letter Opener  12267\n",
       "HON 5400 Series Task Chairs for Big and Tall        11885\n",
       "Global Troy Executive Leather Low-Back Tilter       10215\n",
       "Fellowes PB500 Electric Punch Plastic Comb Bind...   9753"
      ]
     },
     "execution_count": 91,
     "metadata": {},
     "output_type": "execute_result"
    }
   ],
   "source": [
    "# Convert 'Sales' column to numeric type\n",
    "df['Sales'] = pd.to_numeric(df['Sales'], errors='coerce')\n",
    "\n",
    "# Grouping product name and sales\n",
    "prod_sales = pd.DataFrame(df.groupby('Product Name')['Sales'].sum())\n",
    "\n",
    "# Sorting the dataframe in descending order\n",
    "prod_sales.sort_values(by=['Sales'], inplace=True, ascending=False)\n",
    "\n",
    "# Top 10 products by sales\n",
    "prod_sales[:10]\n"
   ]
  },
  {
   "cell_type": "markdown",
   "id": "8878d0d0",
   "metadata": {},
   "source": [
    "We can make a note of these hot seller items. Nevertheless, customers may leave reviews under the comment section for these items. But if you want to go above and beyond do the following: \n",
    "\n",
    "Continue the search on Social Networks with a hashtag. For example, navigating to Twitter and searching '#CanonCopier. We Scarping can be a useful tool to complete this task if needed. This will generate a wealth of comments from all over the world for complaints/appreciation etc. This feedback will allow us to determine if an item is worth maintaining or directing us to contact the vendor to prevent future complaints. There are other marketing strategies that we can gather and offer to managers/shareholders. "
   ]
  },
  {
   "cell_type": "markdown",
   "id": "8a90255c",
   "metadata": {},
   "source": [
    "<h4> 3. Which are the most selling products? "
   ]
  },
  {
   "cell_type": "code",
   "execution_count": 8,
   "id": "9f8ad60f",
   "metadata": {},
   "outputs": [
    {
     "data": {
      "text/html": [
       "<div>\n",
       "<style scoped>\n",
       "    .dataframe tbody tr th:only-of-type {\n",
       "        vertical-align: middle;\n",
       "    }\n",
       "\n",
       "    .dataframe tbody tr th {\n",
       "        vertical-align: top;\n",
       "    }\n",
       "\n",
       "    .dataframe thead th {\n",
       "        text-align: right;\n",
       "    }\n",
       "</style>\n",
       "<table border=\"1\" class=\"dataframe\">\n",
       "  <thead>\n",
       "    <tr style=\"text-align: right;\">\n",
       "      <th></th>\n",
       "      <th>Quantity</th>\n",
       "    </tr>\n",
       "    <tr>\n",
       "      <th>Product Name</th>\n",
       "      <th></th>\n",
       "    </tr>\n",
       "  </thead>\n",
       "  <tbody>\n",
       "    <tr>\n",
       "      <th>Staples</th>\n",
       "      <td>124</td>\n",
       "    </tr>\n",
       "    <tr>\n",
       "      <th>Easy-staple paper</th>\n",
       "      <td>89</td>\n",
       "    </tr>\n",
       "    <tr>\n",
       "      <th>Staple envelope</th>\n",
       "      <td>73</td>\n",
       "    </tr>\n",
       "    <tr>\n",
       "      <th>Staples in misc. colors</th>\n",
       "      <td>60</td>\n",
       "    </tr>\n",
       "    <tr>\n",
       "      <th>Chromcraft Round Conference Tables</th>\n",
       "      <td>59</td>\n",
       "    </tr>\n",
       "    <tr>\n",
       "      <th>Storex Dura Pro Binders</th>\n",
       "      <td>49</td>\n",
       "    </tr>\n",
       "    <tr>\n",
       "      <th>Situations Contoured Folding Chairs, 4/Set</th>\n",
       "      <td>47</td>\n",
       "    </tr>\n",
       "    <tr>\n",
       "      <th>Wilson Jones Clip &amp; Carry Folder Binder Tool for Ring Binders, Clear</th>\n",
       "      <td>44</td>\n",
       "    </tr>\n",
       "    <tr>\n",
       "      <th>Avery Non-Stick Binders</th>\n",
       "      <td>43</td>\n",
       "    </tr>\n",
       "    <tr>\n",
       "      <th>GBC Premium Transparent Covers with Diagonal Lined Pattern</th>\n",
       "      <td>42</td>\n",
       "    </tr>\n",
       "  </tbody>\n",
       "</table>\n",
       "</div>"
      ],
      "text/plain": [
       "                                                    Quantity\n",
       "Product Name                                                \n",
       "Staples                                                  124\n",
       "Easy-staple paper                                         89\n",
       "Staple envelope                                           73\n",
       "Staples in misc. colors                                   60\n",
       "Chromcraft Round Conference Tables                        59\n",
       "Storex Dura Pro Binders                                   49\n",
       "Situations Contoured Folding Chairs, 4/Set                47\n",
       "Wilson Jones Clip & Carry Folder Binder Tool fo...        44\n",
       "Avery Non-Stick Binders                                   43\n",
       "GBC Premium Transparent Covers with Diagonal Li...        42"
      ]
     },
     "execution_count": 8,
     "metadata": {},
     "output_type": "execute_result"
    }
   ],
   "source": [
    "# Convert 'Quantity' column to numeric type\n",
    "df['Quantity'] = pd.to_numeric(df['Quantity'], errors='coerce')\n",
    "\n",
    "# Grouping product name and quantity\n",
    "most_sold_product = pd.DataFrame(df.groupby('Product Name')['Quantity'].sum())\n",
    "\n",
    "# Sorting the dataframe in descending order\n",
    "most_sold_product.sort_values(by=['Quantity'], inplace=True, ascending=False)\n",
    "\n",
    "# Top 10 products by sales\n",
    "most_sold_product[:10]"
   ]
  },
  {
   "cell_type": "markdown",
   "id": "5837aedf",
   "metadata": {},
   "source": [
    "We have now generated the most selling items. It is important to keep up with these items and those that generate the most profit. If inventory supply are low then this will result in zero sales and unhappy members. There are many promotion strategies that we can seek out to boost the sales. Another factor we must also consider is the \"number of transactions\"\n",
    "\n",
    "For example, if someone purchased a bulk of one specific item in January but the rest of the year people dont usually buy. This is something important to discuss and come up with solutions based on the scenario. "
   ]
  },
  {
   "cell_type": "markdown",
   "id": "dc404d63",
   "metadata": {},
   "source": [
    "<h4> 4. Which is the most preferred ship mode?"
   ]
  },
  {
   "cell_type": "code",
   "execution_count": 14,
   "id": "4ed77bf0",
   "metadata": {},
   "outputs": [
    {
     "data": {
      "image/png": "[encoded data removed]",
      "text/plain": [
       "<Figure size 1000x800 with 1 Axes>"
      ]
     },
     "metadata": {},
     "output_type": "display_data"
    }
   ],
   "source": [
    "# Setting the figure size\n",
    "plt.figure(figsize=(10, 8))\n",
    "\n",
    "# countplot: Show the counts of observations in each categorical bin using bars\n",
    "sns.countplot(x='Ship Mode', data=df)\n",
    "\n",
    "# Display the figure\n",
    "plt.show()"
   ]
  },
  {
   "cell_type": "markdown",
   "id": "cb1c5b38",
   "metadata": {},
   "source": [
    "Standard class is the most preferred ship mode. "
   ]
  },
  {
   "cell_type": "markdown",
   "id": "0b97857f",
   "metadata": {},
   "source": [
    "<h4> Which are the most profitable category and sub-category?"
   ]
  },
  {
   "cell_type": "code",
   "execution_count": 16,
   "id": "29d360f0",
   "metadata": {},
   "outputs": [
    {
     "data": {
      "text/html": [
       "<div>\n",
       "<style scoped>\n",
       "    .dataframe tbody tr th:only-of-type {\n",
       "        vertical-align: middle;\n",
       "    }\n",
       "\n",
       "    .dataframe tbody tr th {\n",
       "        vertical-align: top;\n",
       "    }\n",
       "\n",
       "    .dataframe thead th {\n",
       "        text-align: right;\n",
       "    }\n",
       "</style>\n",
       "<table border=\"1\" class=\"dataframe\">\n",
       "  <thead>\n",
       "    <tr style=\"text-align: right;\">\n",
       "      <th></th>\n",
       "      <th></th>\n",
       "      <th>Profit</th>\n",
       "    </tr>\n",
       "    <tr>\n",
       "      <th>Category</th>\n",
       "      <th>Sub-Category</th>\n",
       "      <th></th>\n",
       "    </tr>\n",
       "  </thead>\n",
       "  <tbody>\n",
       "    <tr>\n",
       "      <th rowspan=\"4\" valign=\"top\">Technology</th>\n",
       "      <th>Copiers</th>\n",
       "      <td>42774.5828</td>\n",
       "    </tr>\n",
       "    <tr>\n",
       "      <th>Accessories</th>\n",
       "      <td>25336.6455</td>\n",
       "    </tr>\n",
       "    <tr>\n",
       "      <th>Phones</th>\n",
       "      <td>22308.9179</td>\n",
       "    </tr>\n",
       "    <tr>\n",
       "      <th>Machines</th>\n",
       "      <td>38.1024</td>\n",
       "    </tr>\n",
       "    <tr>\n",
       "      <th rowspan=\"9\" valign=\"top\">Office Supplies</th>\n",
       "      <th>Paper</th>\n",
       "      <td>21112.3779</td>\n",
       "    </tr>\n",
       "    <tr>\n",
       "      <th>Binders</th>\n",
       "      <td>17885.3759</td>\n",
       "    </tr>\n",
       "    <tr>\n",
       "      <th>Storage</th>\n",
       "      <td>13607.0875</td>\n",
       "    </tr>\n",
       "    <tr>\n",
       "      <th>Appliances</th>\n",
       "      <td>13166.6098</td>\n",
       "    </tr>\n",
       "    <tr>\n",
       "      <th>Art</th>\n",
       "      <td>3635.9257</td>\n",
       "    </tr>\n",
       "    <tr>\n",
       "      <th>Envelopes</th>\n",
       "      <td>3508.5073</td>\n",
       "    </tr>\n",
       "    <tr>\n",
       "      <th>Labels</th>\n",
       "      <td>2937.2212</td>\n",
       "    </tr>\n",
       "    <tr>\n",
       "      <th>Fasteners</th>\n",
       "      <td>598.4175</td>\n",
       "    </tr>\n",
       "    <tr>\n",
       "      <th>Supplies</th>\n",
       "      <td>-1654.2767</td>\n",
       "    </tr>\n",
       "    <tr>\n",
       "      <th rowspan=\"4\" valign=\"top\">Furniture</th>\n",
       "      <th>Chairs</th>\n",
       "      <td>13406.7032</td>\n",
       "    </tr>\n",
       "    <tr>\n",
       "      <th>Furnishings</th>\n",
       "      <td>8034.4328</td>\n",
       "    </tr>\n",
       "    <tr>\n",
       "      <th>Bookcases</th>\n",
       "      <td>-342.8883</td>\n",
       "    </tr>\n",
       "    <tr>\n",
       "      <th>Tables</th>\n",
       "      <td>-11091.6365</td>\n",
       "    </tr>\n",
       "  </tbody>\n",
       "</table>\n",
       "</div>"
      ],
      "text/plain": [
       "                                  Profit\n",
       "Category        Sub-Category            \n",
       "Technology      Copiers       42774.5828\n",
       "                Accessories   25336.6455\n",
       "                Phones        22308.9179\n",
       "                Machines         38.1024\n",
       "Office Supplies Paper         21112.3779\n",
       "                Binders       17885.3759\n",
       "                Storage       13607.0875\n",
       "                Appliances    13166.6098\n",
       "                Art            3635.9257\n",
       "                Envelopes      3508.5073\n",
       "                Labels         2937.2212\n",
       "                Fasteners       598.4175\n",
       "                Supplies      -1654.2767\n",
       "Furniture       Chairs        13406.7032\n",
       "                Furnishings    8034.4328\n",
       "                Bookcases      -342.8883\n",
       "                Tables       -11091.6365"
      ]
     },
     "execution_count": 16,
     "metadata": {},
     "output_type": "execute_result"
    }
   ],
   "source": [
    "# Grouping products by Category and Sub-Category\n",
    "cat_subcat = pd.DataFrame(df.groupby(['Category', 'Sub-Category']).sum()['Profit'])\n",
    "\n",
    "# Sorting the values\n",
    "cat_subcat.sort_values(['Category','Profit'], ascending=False)"
   ]
  },
  {
   "cell_type": "code",
   "execution_count": null,
   "id": "e419b808",
   "metadata": {},
   "outputs": [],
   "source": [
    "In conclusion, we have answered the following questions."
   ]
  }
 ],
 "metadata": {
  "kernelspec": {
   "display_name": "Python 3 (ipykernel)",
   "language": "python",
   "name": "python3"
  },
  "language_info": {
   "codemirror_mode": {
    "name": "ipython",
    "version": 3
   },
   "file_extension": ".py",
   "mimetype": "text/x-python",
   "name": "python",
   "nbconvert_exporter": "python",
   "pygments_lexer": "ipython3",
   "version": "3.11.5"
  }
 },
 "nbformat": 4,
 "nbformat_minor": 5
}
